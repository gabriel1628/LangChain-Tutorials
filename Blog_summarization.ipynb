{
  "cells": [
    {
      "cell_type": "markdown",
      "metadata": {
        "colab_type": "text",
        "id": "view-in-github"
      },
      "source": [
        "<a href=\"https://colab.research.google.com/github/gabriel1628/LangChain-Tutorials/blob/main/Blog_summarization.ipynb\" target=\"_parent\"><img src=\"https://colab.research.google.com/assets/colab-badge.svg\" alt=\"Open In Colab\"/></a>"
      ]
    },
    {
      "cell_type": "markdown",
      "id": "td_ZTnqG368f",
      "metadata": {
        "id": "td_ZTnqG368f"
      },
      "source": [
        "# Summarize Text\n",
        "\n",
        "\n",
        ">This tutorial demonstrates text summarization using built-in chains and [LangGraph](https://langchain-ai.github.io/langgraph/).  \n",
        ">\n",
        ">A [previous version](https://python.langchain.com/v0.1/docs/use_cases/summarization/) of this page showcased the legacy chains [StuffDocumentsChain](/docs/versions/migrating_chains/stuff_docs_chain/), [MapReduceDocumentsChain](/docs/versions/migrating_chains/map_reduce_chain/), and [RefineDocumentsChain](https://python.langchain.com/docs/versions/migrating_chains/refine_docs_chain/). See [here](/docs/versions/migrating_chains/) for information on using those abstractions and a comparison with the methods demonstrated in this tutorial.\n",
        "\n",
        "\n",
        "Suppose you have a set of documents (PDFs, Notion pages, customer questions, etc.) and you want to summarize the content.\n",
        "\n",
        "LLMs are a great tool for this given their proficiency in understanding and synthesizing text.\n",
        "\n",
        "In the context of [retrieval-augmented generation](/docs/tutorials/rag), summarizing text can help distill the information in a large number of retrieved documents to provide context for a LLM.\n",
        "\n",
        "In this walkthrough we'll go over how to summarize content from multiple documents using LLMs."
      ]
    },
    {
      "cell_type": "markdown",
      "id": "BAsW-jfT47gv",
      "metadata": {
        "id": "BAsW-jfT47gv"
      },
      "source": [
        "![Image description](https://github.com/langchain-ai/langchain/blob/master/docs/static/img/summarization_use_case_1.png?raw=1)"
      ]
    },
    {
      "cell_type": "markdown",
      "id": "cLSEo5_d5nn7",
      "metadata": {
        "id": "cLSEo5_d5nn7"
      },
      "source": [
        "## Concepts\n",
        "\n",
        "Concepts we will cover are:\n",
        "\n",
        "- Using [language models](/docs/concepts/chat_models).\n",
        "\n",
        "- Using [document loaders](/docs/concepts/document_loaders), specifically the [WebBaseLoader](https://python.langchain.com/api_reference/community/document_loaders/langchain_community.document_loaders.web_base.WebBaseLoader.html) to load content from an HTML webpage.\n",
        "\n",
        "- Two ways to summarize or otherwise combine documents.\n",
        "  1. [Stuff](/docs/tutorials/summarization#stuff), which simply concatenates documents into a prompt;\n",
        "  2. [Map-reduce](/docs/tutorials/summarization#map-reduce), for larger sets of documents. This splits documents into batches, summarizes those, and then summarizes the summaries.\n",
        "\n",
        "Shorter, targeted guides on these strategies and others, including [iterative refinement](/docs/how_to/summarize_refine), can be found in the [how-to guides](/docs/how_to/#summarization)."
      ]
    },
    {
      "cell_type": "markdown",
      "id": "bea785ac",
      "metadata": {
        "id": "bea785ac"
      },
      "source": [
        "## Setup\n",
        "\n",
        "### Jupyter Notebook\n",
        "\n",
        "This guide (and most of the other guides in the documentation) uses [Jupyter notebooks](https://jupyter.org/) and assumes the reader is as well. Jupyter notebooks are perfect for learning how to work with LLM systems because oftentimes things can go wrong (unexpected output, API down, etc) and going through guides in an interactive environment is a great way to better understand them.\n",
        "\n",
        "This and other tutorials are perhaps most conveniently run in a Jupyter notebook. See [here](https://jupyter.org/install) for instructions on how to install.\n",
        "\n",
        "### Installation\n",
        "\n",
        "To install LangChain run:"
      ]
    },
    {
      "cell_type": "code",
      "execution_count": 54,
      "id": "928585ec-6f6f-4b67-b2c8-0fc87186342b",
      "metadata": {
        "id": "928585ec-6f6f-4b67-b2c8-0fc87186342b"
      },
      "outputs": [],
      "source": [
        "# %pip install -q -U langchain # Uncomment in Colab"
      ]
    },
    {
      "cell_type": "markdown",
      "id": "3CL7tBeK5__t",
      "metadata": {
        "id": "3CL7tBeK5__t"
      },
      "source": [
        "\n",
        "For more details, see our [Installation guide](/docs/how_to/installation)."
      ]
    },
    {
      "cell_type": "markdown",
      "id": "pqQd4bob6Lxl",
      "metadata": {
        "id": "pqQd4bob6Lxl"
      },
      "source": [
        "\n",
        "### LangSmith\n",
        "\n",
        "Many of the applications you build with LangChain will contain multiple steps with multiple invocations of LLM calls.\n",
        "As these applications get more and more complex, it becomes crucial to be able to inspect what exactly is going on inside your chain or agent.\n",
        "The best way to do this is with [LangSmith](https://smith.langchain.com).\n",
        "\n",
        "After you sign up at the link above, make sure to set your environment variables to start logging traces:\n",
        "\n",
        "```shell\n",
        "export LANGSMITH_TRACING=\"true\"\n",
        "export LANGSMITH_API_KEY=\"...\"\n",
        "```\n",
        "\n",
        "Or, if in a notebook, you can set them with:\n",
        "\n",
        "```python\n",
        "import getpass\n",
        "import os\n",
        "\n",
        "os.environ[\"LANGSMITH_TRACING\"] = \"true\"\n",
        "os.environ[\"LANGSMITH_API_KEY\"] = getpass.getpass()\n",
        "```"
      ]
    },
    {
      "cell_type": "markdown",
      "id": "iRkb1Jhb6d2X",
      "metadata": {
        "id": "iRkb1Jhb6d2X"
      },
      "source": [
        "## Overview\n",
        "\n",
        "A central question for building a summarizer is how to pass your documents into the LLM's context window. Two common approaches for this are:\n",
        "\n",
        "1. `Stuff`: Simply \"stuff\" all your documents into a single prompt. This is the simplest approach (see [here](/docs/how_to/summarize_stuff/) for more on the `create_stuff_documents_chain` constructor, which is used for this method).\n",
        "\n",
        "2. `Map-reduce`: Summarize each document on its own in a \"map\" step and then \"reduce\" the summaries into a final summary (see [here](https://python.langchain.com/api_reference/langchain/chains/langchain.chains.combine_documents.map_reduce.MapReduceDocumentsChain.html) for more on the `MapReduceDocumentsChain`, which is used for this method).\n",
        "\n",
        "Note that map-reduce is especially effective when understanding of a sub-document does not rely on preceding context. For example, when summarizing a corpus of many, shorter documents. In other cases, such as summarizing a novel or body of text with an inherent sequence, [iterative refinement](/docs/how_to/summarize_refine) may be more effective."
      ]
    },
    {
      "cell_type": "markdown",
      "id": "sX1RV_3p6ftv",
      "metadata": {
        "id": "sX1RV_3p6ftv"
      },
      "source": [
        "![Image description](https://github.com/langchain-ai/langchain/blob/master/docs/static/img/summarization_use_case_2.png?raw=1)"
      ]
    },
    {
      "cell_type": "markdown",
      "id": "DYR4GaUQ6s48",
      "metadata": {
        "id": "DYR4GaUQ6s48"
      },
      "source": [
        "## Setup\n",
        "\n",
        "First set environment variables and install packages:"
      ]
    },
    {
      "cell_type": "code",
      "execution_count": 55,
      "id": "VTRysPTZ6uOg",
      "metadata": {
        "id": "VTRysPTZ6uOg"
      },
      "outputs": [],
      "source": [
        "# Uncomment in Colab\n",
        "# %pip install --upgrade --quiet tiktoken langchain langgraph beautifulsoup4 langchain-community"
      ]
    },
    {
      "cell_type": "code",
      "execution_count": 56,
      "id": "5UN2p0T26zMU",
      "metadata": {
        "id": "5UN2p0T26zMU"
      },
      "outputs": [],
      "source": [
        "import os\n",
        "COLAB = False # set it to 'True' if in Colab\n",
        "\n",
        "os.environ[\"LANGSMITH_TRACING\"] = \"true\"\n",
        "if COLAB:\n",
        "    from google.colab import userdata\n",
        "    os.environ[\"LANGSMITH_API_KEY\"] = userdata.get('LANGSMITH_API_KEY')\n",
        "else:\n",
        "    from dotenv import load_dotenv\n",
        "    load_dotenv()"
      ]
    },
    {
      "cell_type": "markdown",
      "id": "21541329-f883-42ca-bc94-ab9793951dfa",
      "metadata": {
        "id": "21541329-f883-42ca-bc94-ab9793951dfa"
      },
      "source": [
        "First we load in our documents. We will use [WebBaseLoader](https://python.langchain.com/api_reference/community/document_loaders/langchain_community.document_loaders.web_base.WebBaseLoader.html) to load a blog post:"
      ]
    },
    {
      "cell_type": "code",
      "execution_count": 57,
      "id": "23154e97-c4cb-4bcb-a742-f0c9d06639da",
      "metadata": {
        "colab": {
          "base_uri": "https://localhost:8080/"
        },
        "id": "23154e97-c4cb-4bcb-a742-f0c9d06639da",
        "outputId": "ccece839-b294-462b-8bd4-a8f24261c469"
      },
      "outputs": [],
      "source": [
        "from langchain_community.document_loaders import WebBaseLoader\n",
        "\n",
        "loader = WebBaseLoader(\"https://lilianweng.github.io/posts/2023-06-23-agent/\")\n",
        "docs = loader.load()"
      ]
    },
    {
      "cell_type": "code",
      "execution_count": 58,
      "id": "428946e7",
      "metadata": {},
      "outputs": [
        {
          "data": {
            "text/plain": [
              "1"
            ]
          },
          "execution_count": 58,
          "metadata": {},
          "output_type": "execute_result"
        }
      ],
      "source": [
        "len(docs)"
      ]
    },
    {
      "cell_type": "code",
      "execution_count": 59,
      "id": "0e776d78",
      "metadata": {},
      "outputs": [
        {
          "data": {
            "text/plain": [
              "{'id': None,\n",
              " 'metadata': {'source': 'https://lilianweng.github.io/posts/2023-06-23-agent/',\n",
              "  'title': \"LLM Powered Autonomous Agents | Lil'Log\",\n",
              "  'description': 'Building agents with LLM (large language model) as its core controller is a cool concept. Several proof-of-concepts demos, such as AutoGPT, GPT-Engineer and BabyAGI, serve as inspiring examples. The potentiality of LLM extends beyond generating well-written copies, stories, essays and programs; it can be framed as a powerful general problem solver.\\nAgent System Overview\\nIn a LLM-powered autonomous agent system, LLM functions as the agent’s brain, complemented by several key components:\\n\\nPlanning\\n\\nSubgoal and decomposition: The agent breaks down large tasks into smaller, manageable subgoals, enabling efficient handling of complex tasks.\\nReflection and refinement: The agent can do self-criticism and self-reflection over past actions, learn from mistakes and refine them for future steps, thereby improving the quality of final results.\\n\\n\\nMemory\\n\\nShort-term memory: I would consider all the in-context learning (See Prompt Engineering) as utilizing short-term memory of the model to learn.\\nLong-term memory: This provides the agent with the capability to retain and recall (infinite) information over extended periods, often by leveraging an external vector store and fast retrieval.\\n\\n\\nTool use\\n\\nThe agent learns to call external APIs for extra information that is missing from the model weights (often hard to change after pre-training), including current information, code execution capability, access to proprietary information sources and more.\\n\\n\\n\\n\\nFig. 1. Overview of a LLM-powered autonomous agent system.\\nComponent One: Planning\\nA complicated task usually involves many steps. An agent needs to know what they are and plan ahead.',\n",
              "  'language': 'en'},\n",
              " 'page_content': '\\n\\n\\n\\n\\n\\nLLM Powered Autonomous Agents | Lil\\'Log\\n\\n\\n\\n\\n\\n\\n\\n\\n\\n\\n\\n\\n\\n\\n\\n\\n\\n\\n\\n\\n\\n\\n\\n\\n\\n\\n\\n\\n\\n\\n\\n\\n\\n\\n\\n\\n\\n\\n\\nLil\\'Log\\n\\n\\n\\n\\n\\n\\n\\n\\n\\n\\n\\n\\n\\n\\n\\n\\n\\n|\\n\\n\\n\\n\\n\\n\\nPosts\\n\\n\\n\\n\\nArchive\\n\\n\\n\\n\\nSearch\\n\\n\\n\\n\\nTags\\n\\n\\n\\n\\nFAQ\\n\\n\\n\\n\\n\\n\\n\\n\\n\\n      LLM Powered Autonomous Agents\\n    \\nDate: June 23, 2023  |  Estimated Reading Time: 31 min  |  Author: Lilian Weng\\n\\n\\n \\n\\n\\nTable of Contents\\n\\n\\n\\nAgent System Overview\\n\\nComponent One: Planning\\n\\nTask Decomposition\\n\\nSelf-Reflection\\n\\n\\nComponent Two: Memory\\n\\nTypes of Memory\\n\\nMaximum Inner Product Search (MIPS)\\n\\n\\nComponent Three: Tool Use\\n\\nCase Studies\\n\\nScientific Discovery Agent\\n\\nGenerative Agents Simulation\\n\\nProof-of-Concept Examples\\n\\n\\nChallenges\\n\\nCitation\\n\\nReferences\\n\\n\\n\\n\\n\\nBuilding agents with LLM (large language model) as its core controller is a cool concept. Several proof-of-concepts demos, such as AutoGPT, GPT-Engineer and BabyAGI, serve as inspiring examples. The potentiality of LLM extends beyond generating well-written copies, stories, essays and programs; it can be framed as a powerful general problem solver.\\nAgent System Overview#\\nIn a LLM-powered autonomous agent system, LLM functions as the agent’s brain, complemented by several key components:\\n\\nPlanning\\n\\nSubgoal and decomposition: The agent breaks down large tasks into smaller, manageable subgoals, enabling efficient handling of complex tasks.\\nReflection and refinement: The agent can do self-criticism and self-reflection over past actions, learn from mistakes and refine them for future steps, thereby improving the quality of final results.\\n\\n\\nMemory\\n\\nShort-term memory: I would consider all the in-context learning (See Prompt Engineering) as utilizing short-term memory of the model to learn.\\nLong-term memory: This provides the agent with the capability to retain and recall (infinite) information over extended periods, often by leveraging an external vector store and fast retrieval.\\n\\n\\nTool use\\n\\nThe agent learns to call external APIs for extra information that is missing from the model weights (often hard to change after pre-training), including current information, code execution capability, access to proprietary information sources and more.\\n\\n\\n\\n\\nFig. 1. Overview of a LLM-powered autonomous agent system.\\nComponent One: Planning#\\nA complicated task usually involves many steps. An agent needs to know what they are and plan ahead.\\nTask Decomposition#\\nChain of thought (CoT; Wei et al. 2022) has become a standard prompting technique for enhancing model performance on complex tasks. The model is instructed to “think step by step” to utilize more test-time computation to decompose hard tasks into smaller and simpler steps. CoT transforms big tasks into multiple manageable tasks and shed lights into an interpretation of the model’s thinking process.\\nTree of Thoughts (Yao et al. 2023) extends CoT by exploring multiple reasoning possibilities at each step. It first decomposes the problem into multiple thought steps and generates multiple thoughts per step, creating a tree structure. The search process can be BFS (breadth-first search) or DFS (depth-first search) with each state evaluated by a classifier (via a prompt) or majority vote.\\nTask decomposition can be done (1) by LLM with simple prompting like \"Steps for XYZ.\\\\n1.\", \"What are the subgoals for achieving XYZ?\", (2) by using task-specific instructions; e.g. \"Write a story outline.\" for writing a novel, or (3) with human inputs.\\nAnother quite distinct approach, LLM+P (Liu et al. 2023), involves relying on an external classical planner to do long-horizon planning. This approach utilizes the Planning Domain Definition Language (PDDL) as an intermediate interface to describe the planning problem. In this process, LLM (1) translates the problem into “Problem PDDL”, then (2) requests a classical planner to generate a PDDL plan based on an existing “Domain PDDL”, and finally (3) translates the PDDL plan back into natural language. Essentially, the planning step is outsourced to an external tool, assuming the availability of domain-specific PDDL and a suitable planner which is common in certain robotic setups but not in many other domains.\\nSelf-Reflection#\\nSelf-reflection is a vital aspect that allows autonomous agents to improve iteratively by refining past action decisions and correcting previous mistakes. It plays a crucial role in real-world tasks where trial and error are inevitable.\\nReAct (Yao et al. 2023) integrates reasoning and acting within LLM by extending the action space to be a combination of task-specific discrete actions and the language space. The former enables LLM to interact with the environment (e.g. use Wikipedia search API), while the latter prompting LLM to generate reasoning traces in natural language.\\nThe ReAct prompt template incorporates explicit steps for LLM to think, roughly formatted as:\\nThought: ...\\nAction: ...\\nObservation: ...\\n... (Repeated many times)\\n\\nFig. 2.  Examples of reasoning trajectories for knowledge-intensive tasks (e.g. HotpotQA, FEVER) and decision-making tasks (e.g. AlfWorld Env, WebShop). (Image source: Yao et al. 2023).\\nIn both experiments on knowledge-intensive tasks and decision-making tasks, ReAct works better than the Act-only baseline where Thought: … step is removed.\\nReflexion (Shinn & Labash 2023) is a framework to equip agents with dynamic memory and self-reflection capabilities to improve reasoning skills. Reflexion has a standard RL setup, in which the reward model provides a simple binary reward and the action space follows the setup in ReAct where the task-specific action space is augmented with language to enable complex reasoning steps. After each action $a_t$, the agent computes a heuristic $h_t$ and optionally may decide to reset the environment to start a new trial depending on the self-reflection results.\\n\\nFig. 3. Illustration of the Reflexion framework. (Image source: Shinn & Labash, 2023)\\nThe heuristic function determines when the trajectory is inefficient or contains hallucination and should be stopped. Inefficient planning refers to trajectories that take too long without success. Hallucination is defined as encountering a sequence of consecutive identical actions that lead to the same observation in the environment.\\nSelf-reflection is created by showing two-shot examples to LLM and each example is a pair of (failed trajectory, ideal reflection for guiding future changes in the plan). Then reflections are added into the agent’s working memory, up to three, to be used as context for querying LLM.\\n\\nFig. 4. Experiments on AlfWorld Env and HotpotQA. Hallucination is a more common failure than inefficient planning in AlfWorld. (Image source: Shinn & Labash, 2023)\\nChain of Hindsight (CoH; Liu et al. 2023) encourages the model to improve on its own outputs by explicitly presenting it with a sequence of past outputs, each annotated with feedback. Human feedback data is a collection of $D_h = \\\\{(x, y_i , r_i , z_i)\\\\}_{i=1}^n$, where $x$ is the prompt, each $y_i$ is a model completion, $r_i$ is the human rating of $y_i$, and $z_i$ is the corresponding human-provided hindsight feedback. Assume the feedback tuples are ranked by reward, $r_n \\\\geq r_{n-1} \\\\geq \\\\dots \\\\geq r_1$ The process is supervised fine-tuning where the data is a sequence in the form of $\\\\tau_h = (x, z_i, y_i, z_j, y_j, \\\\dots, z_n, y_n)$, where $\\\\leq i \\\\leq j \\\\leq n$. The model is finetuned to only predict $y_n$ where conditioned on the sequence prefix, such that the model can self-reflect to produce better output based on the feedback sequence. The model can optionally receive multiple rounds of instructions with human annotators at test time.\\nTo avoid overfitting, CoH adds a regularization term to maximize the log-likelihood of the pre-training dataset. To avoid shortcutting and copying (because there are many common words in feedback sequences), they randomly mask 0% - 5% of past tokens during training.\\nThe training dataset in their experiments is a combination of WebGPT comparisons, summarization from human feedback and human preference dataset.\\n\\nFig. 5. After fine-tuning with CoH, the model can follow instructions to produce outputs with incremental improvement in a sequence. (Image source: Liu et al. 2023)\\nThe idea of CoH is to present a history of sequentially improved outputs  in context and train the model to take on the trend to produce better outputs. Algorithm Distillation (AD; Laskin et al. 2023) applies the same idea to cross-episode trajectories in reinforcement learning tasks, where an algorithm is encapsulated in a long history-conditioned policy. Considering that an agent interacts with the environment many times and in each episode the agent gets a little better, AD concatenates this learning history and feeds that into the model. Hence we should expect the next predicted action to lead to better performance than previous trials. The goal is to learn the process of RL instead of training a task-specific policy itself.\\n\\nFig. 6. Illustration of how Algorithm Distillation (AD) works. (Image source: Laskin et al. 2023).\\nThe paper hypothesizes that any algorithm that generates a set of learning histories can be distilled into a neural network by performing behavioral cloning over actions. The history data is generated by a set of source policies, each trained for a specific task. At the training stage, during each RL run, a random task is sampled and a subsequence of multi-episode history is used for training, such that the learned policy is task-agnostic.\\nIn reality, the model has limited context window length, so episodes should be short enough to construct multi-episode history. Multi-episodic contexts of 2-4 episodes are necessary to learn a near-optimal in-context RL algorithm. The emergence of in-context RL requires long enough context.\\nIn comparison with three baselines, including ED (expert distillation, behavior cloning with expert trajectories instead of learning history), source policy (used for generating trajectories for distillation by UCB), RL^2 (Duan et al. 2017; used as upper bound since it needs online RL), AD demonstrates in-context RL with performance getting close to RL^2 despite only using offline RL and learns much faster than other baselines. When conditioned on partial training history of the source policy, AD also improves much faster than ED baseline.\\n\\nFig. 7. Comparison of AD, ED, source policy and RL^2 on environments that require memory and exploration. Only binary reward is assigned. The source policies are trained with A3C for \"dark\" environments and DQN for watermaze.(Image source: Laskin et al. 2023)\\nComponent Two: Memory#\\n(Big thank you to ChatGPT for helping me draft this section. I’ve learned a lot about the human brain and data structure for fast MIPS in my conversations with ChatGPT.)\\nTypes of Memory#\\nMemory can be defined as the processes used to acquire, store, retain, and later retrieve information. There are several types of memory in human brains.\\n\\n\\nSensory Memory: This is the earliest stage of memory, providing the ability to retain impressions of sensory information (visual, auditory, etc) after the original stimuli have ended. Sensory memory typically only lasts for up to a few seconds. Subcategories include iconic memory (visual), echoic memory (auditory), and haptic memory (touch).\\n\\n\\nShort-Term Memory (STM) or Working Memory: It stores information that we are currently aware of and needed to carry out complex cognitive tasks such as learning and reasoning. Short-term memory is believed to have the capacity of about 7 items (Miller 1956) and lasts for 20-30 seconds.\\n\\n\\nLong-Term Memory (LTM): Long-term memory can store information for a remarkably long time, ranging from a few days to decades, with an essentially unlimited storage capacity. There are two subtypes of LTM:\\n\\nExplicit / declarative memory: This is memory of facts and events, and refers to those memories that can be consciously recalled, including episodic memory (events and experiences) and semantic memory (facts and concepts).\\nImplicit / procedural memory: This type of memory is unconscious and involves skills and routines that are performed automatically, like riding a bike or typing on a keyboard.\\n\\n\\n\\n\\nFig. 8. Categorization of human memory.\\nWe can roughly consider the following mappings:\\n\\nSensory memory as learning embedding representations for raw inputs, including text, image or other modalities;\\nShort-term memory as in-context learning. It is short and finite, as it is restricted by the finite context window length of Transformer.\\nLong-term memory as the external vector store that the agent can attend to at query time, accessible via fast retrieval.\\n\\nMaximum Inner Product Search (MIPS)#\\nThe external memory can alleviate the restriction of finite attention span.  A standard practice is to save the embedding representation of information into a vector store database that can support fast maximum inner-product search (MIPS). To optimize the retrieval speed, the common choice is the approximate nearest neighbors (ANN)\\u200b algorithm to return approximately top k nearest neighbors to trade off a little accuracy lost for a huge speedup.\\nA couple common choices of ANN algorithms for fast MIPS:\\n\\nLSH (Locality-Sensitive Hashing): It introduces a hashing function such that similar input items are mapped to the same buckets with high probability, where the number of buckets is much smaller than the number of inputs.\\nANNOY (Approximate Nearest Neighbors Oh Yeah): The core data structure are random projection trees, a set of binary trees where each non-leaf node represents a hyperplane splitting the input space into half and each leaf stores one data point. Trees are built independently and at random, so to some extent, it mimics a hashing function. ANNOY search happens in all the trees to iteratively search through the half that is closest to the query and then aggregates the results. The idea is quite related to KD tree but a lot more scalable.\\nHNSW (Hierarchical Navigable Small World): It is inspired by the idea of small world networks where most nodes can be reached by any other nodes within a small number of steps; e.g. “six degrees of separation” feature of social networks. HNSW builds hierarchical layers of these small-world graphs, where the bottom layers contain the actual data points. The layers in the middle create shortcuts to speed up search. When performing a search, HNSW starts from a random node in the top layer and navigates towards the target. When it can’t get any closer, it moves down to the next layer, until it reaches the bottom layer. Each move in the upper layers can potentially cover a large distance in the data space, and each move in the lower layers refines the search quality.\\nFAISS (Facebook AI Similarity Search): It operates on the assumption that in high dimensional space, distances between nodes follow a Gaussian distribution and thus there should exist clustering of data points. FAISS applies vector quantization by partitioning the vector space into clusters and then refining the quantization within clusters. Search first looks for cluster candidates with coarse quantization and then further looks into each cluster with finer quantization.\\nScaNN (Scalable Nearest Neighbors): The main innovation in ScaNN is anisotropic vector quantization. It quantizes a data point $x_i$ to $\\\\tilde{x}_i$ such that the inner product $\\\\langle q, x_i \\\\rangle$ is as similar to the original distance of $\\\\angle q, \\\\tilde{x}_i$ as possible, instead of picking the closet quantization centroid points.\\n\\n\\nFig. 9. Comparison of MIPS algorithms, measured in recall@10. (Image source: Google Blog, 2020)\\nCheck more MIPS algorithms and performance comparison in ann-benchmarks.com.\\nComponent Three: Tool Use#\\nTool use is a remarkable and distinguishing characteristic of human beings. We create, modify and utilize external objects to do things that go beyond our physical and cognitive limits. Equipping LLMs with external tools can significantly extend the model capabilities.\\n\\nFig. 10. A picture of a sea otter using rock to crack open a seashell, while floating in the water. While some other animals can use tools, the complexity is not comparable with humans. (Image source: Animals using tools)\\nMRKL (Karpas et al. 2022), short for “Modular Reasoning, Knowledge and Language”, is a neuro-symbolic architecture for autonomous agents. A MRKL system is proposed to contain a collection of “expert” modules and the general-purpose LLM works as a router to route inquiries to the best suitable expert module. These modules can be neural (e.g. deep learning models) or symbolic (e.g. math calculator, currency converter, weather API).\\nThey did an experiment on fine-tuning LLM to call a calculator, using arithmetic as a test case. Their experiments showed that it was harder to solve verbal math problems than explicitly stated math problems because LLMs (7B Jurassic1-large model) failed to extract the right arguments for the basic arithmetic reliably. The results highlight when the external symbolic tools can work reliably, knowing when to and how to use the tools are crucial, determined by the LLM capability.\\nBoth TALM (Tool Augmented Language Models; Parisi et al. 2022) and Toolformer (Schick et al. 2023) fine-tune a LM to learn to use external tool APIs. The dataset is expanded based on whether a newly added API call annotation can improve the quality of model outputs. See more details in the “External APIs” section of Prompt Engineering.\\nChatGPT Plugins and OpenAI API  function calling are good examples of LLMs augmented with tool use capability working in practice. The collection of tool APIs can be provided by other developers (as in Plugins) or self-defined (as in function calls).\\nHuggingGPT (Shen et al. 2023) is a framework to use ChatGPT as the task planner to select models available in HuggingFace platform according to the model descriptions and summarize the response based on the execution results.\\n\\nFig. 11. Illustration of how HuggingGPT works. (Image source: Shen et al. 2023)\\nThe system comprises of 4 stages:\\n(1) Task planning: LLM works as the brain and parses the user requests into multiple tasks. There are four attributes associated with each task: task type, ID, dependencies, and arguments. They use few-shot examples to guide LLM to do task parsing and planning.\\nInstruction:\\n\\nThe AI assistant can parse user input to several tasks: [{\"task\": task, \"id\", task_id, \"dep\": dependency_task_ids, \"args\": {\"text\": text, \"image\": URL, \"audio\": URL, \"video\": URL}}]. The \"dep\" field denotes the id of the previous task which generates a new resource that the current task relies on. A special tag \"-task_id\" refers to the generated text image, audio and video in the dependency task with id as task_id. The task MUST be selected from the following options: {{ Available Task List }}. There is a logical relationship between tasks, please note their order. If the user input can\\'t be parsed, you need to reply empty JSON. Here are several cases for your reference: {{ Demonstrations }}. The chat history is recorded as {{ Chat History }}. From this chat history, you can find the path of the user-mentioned resources for your task planning.\\n\\n(2) Model selection: LLM distributes the tasks to expert models, where the request is framed as a multiple-choice question. LLM is presented with a list of models to choose from. Due to the limited context length, task type based filtration is needed.\\nInstruction:\\n\\nGiven the user request and the call command, the AI assistant helps the user to select a suitable model from a list of models to process the user request. The AI assistant merely outputs the model id of the most appropriate model. The output must be in a strict JSON format: \"id\": \"id\", \"reason\": \"your detail reason for the choice\". We have a list of models for you to choose from {{ Candidate Models }}. Please select one model from the list.\\n\\n(3) Task execution: Expert models execute on the specific tasks and log results.\\nInstruction:\\n\\nWith the input and the inference results, the AI assistant needs to describe the process and results. The previous stages can be formed as - User Input: {{ User Input }}, Task Planning: {{ Tasks }}, Model Selection: {{ Model Assignment }}, Task Execution: {{ Predictions }}. You must first answer the user\\'s request in a straightforward manner. Then describe the task process and show your analysis and model inference results to the user in the first person. If inference results contain a file path, must tell the user the complete file path.\\n\\n(4) Response generation: LLM receives the execution results and provides summarized results to users.\\nTo put HuggingGPT into real world usage, a couple challenges need to solve: (1) Efficiency improvement is needed as both LLM inference rounds and interactions with other models slow down the process; (2) It relies on a long context window to communicate over complicated task content; (3) Stability improvement of LLM outputs and external model services.\\nAPI-Bank (Li et al. 2023) is a benchmark for evaluating the performance of tool-augmented LLMs. It contains 53 commonly used API tools, a complete tool-augmented LLM workflow, and 264 annotated dialogues that involve 568 API calls. The selection of APIs is quite diverse, including search engines, calculator, calendar queries, smart home control, schedule management, health data management, account authentication workflow and more. Because there are a large number of APIs, LLM first has access to API search engine to find the right API to call and then uses the corresponding documentation to make a call.\\n\\nFig. 12. Pseudo code of how LLM makes an API call in API-Bank. (Image source: Li et al. 2023)\\nIn the API-Bank workflow, LLMs need to make a couple of decisions and at each step we can evaluate how accurate that decision is. Decisions include:\\n\\nWhether an API call is needed.\\nIdentify the right API to call: if not good enough, LLMs need to iteratively modify the API inputs (e.g. deciding search keywords for Search Engine API).\\nResponse based on the API results: the model can choose to refine and call again if results are not satisfied.\\n\\nThis benchmark evaluates the agent’s tool use capabilities at three levels:\\n\\nLevel-1 evaluates the ability to call the API. Given an API’s description, the model needs to determine whether to call a given API, call it correctly, and respond properly to API returns.\\nLevel-2 examines the ability to retrieve the API. The model needs to search for possible APIs that may solve the user’s requirement and learn how to use them by reading documentation.\\nLevel-3 assesses the ability to plan API beyond retrieve and call. Given unclear user requests (e.g. schedule group meetings, book flight/hotel/restaurant for a trip), the model may have to conduct multiple API calls to solve it.\\n\\nCase Studies#\\nScientific Discovery Agent#\\nChemCrow (Bran et al. 2023) is a domain-specific example in which LLM is augmented with 13 expert-designed tools to accomplish tasks across organic synthesis, drug discovery, and materials design. The workflow, implemented in LangChain, reflects what was previously described in the ReAct and MRKLs and combines CoT reasoning with tools relevant to the tasks:\\n\\nThe LLM is provided with a list of tool names, descriptions of their utility, and details about the expected input/output.\\nIt is then instructed to answer a user-given prompt using the tools provided when necessary. The instruction suggests the model to follow the ReAct format - Thought, Action, Action Input, Observation.\\n\\nOne interesting observation is that while the LLM-based evaluation concluded that GPT-4 and ChemCrow perform nearly equivalently, human evaluations with experts oriented towards the completion and chemical correctness of the solutions showed that ChemCrow outperforms GPT-4 by a large margin. This indicates a potential problem with using LLM to evaluate its own performance on domains that requires deep expertise. The lack of expertise may cause LLMs not knowing its flaws and thus cannot well judge the correctness of task results.\\nBoiko et al. (2023) also looked into LLM-empowered agents for scientific discovery, to handle autonomous design, planning, and performance of complex scientific experiments. This agent can use tools to browse the Internet, read documentation, execute code, call robotics experimentation APIs and leverage other LLMs.\\nFor example, when requested to \"develop a novel anticancer drug\", the model came up with the following reasoning steps:\\n\\ninquired about current trends in anticancer drug discovery;\\nselected a target;\\nrequested a scaffold targeting these compounds;\\nOnce the compound was identified, the model attempted its synthesis.\\n\\nThey also discussed the risks, especially with illicit drugs and bioweapons. They developed a test set containing a list of known chemical weapon agents and asked the agent to synthesize them. 4 out of 11 requests (36%) were accepted to obtain a synthesis solution and the agent attempted to consult documentation to execute the procedure. 7 out of 11 were rejected and among these 7 rejected cases, 5 happened after a Web search while 2 were rejected based on prompt only.\\nGenerative Agents Simulation#\\nGenerative Agents (Park, et al. 2023) is super fun experiment where 25 virtual characters, each controlled by a LLM-powered agent, are living and interacting in a sandbox environment, inspired by The Sims. Generative agents create believable simulacra of human behavior for interactive applications.\\nThe design of generative agents combines LLM with memory, planning and reflection mechanisms to enable agents to behave conditioned on past experience, as well as to interact with other agents.\\n\\nMemory stream: is a long-term memory module (external database) that records a comprehensive list of agents’ experience in natural language.\\n\\nEach element is an observation, an event directly provided by the agent.\\n- Inter-agent communication can trigger new natural language statements.\\n\\n\\nRetrieval model: surfaces the context to inform the agent’s behavior, according to relevance, recency and importance.\\n\\nRecency: recent events have higher scores\\nImportance: distinguish mundane from core memories. Ask LM directly.\\nRelevance: based on how related it is to the current situation / query.\\n\\n\\nReflection mechanism: synthesizes memories into higher level inferences over time and guides the agent’s future behavior. They are higher-level summaries of past events (<- note that this is a bit different from self-reflection above)\\n\\nPrompt LM with 100 most recent observations and to generate 3 most salient high-level questions given a set of observations/statements. Then ask LM to answer those questions.\\n\\n\\nPlanning & Reacting: translate the reflections and the environment information into actions\\n\\nPlanning is essentially in order to optimize believability at the moment vs in time.\\nPrompt template: {Intro of an agent X}. Here is X\\'s plan today in broad strokes: 1)\\nRelationships between agents and observations of one agent by another are all taken into consideration for planning and reacting.\\nEnvironment information is present in a tree structure.\\n\\n\\n\\n\\nFig. 13. The generative agent architecture. (Image source: Park et al. 2023)\\nThis fun simulation results in emergent social behavior, such as information diffusion, relationship memory (e.g. two agents continuing the conversation topic) and coordination of social events (e.g. host a party and invite many others).\\nProof-of-Concept Examples#\\nAutoGPT has drawn a lot of attention into the possibility of setting up autonomous agents with LLM as the main controller. It has quite a lot of reliability issues given the natural language interface, but nevertheless a cool proof-of-concept demo. A lot of code in AutoGPT is about format parsing.\\nHere is the system message used by AutoGPT, where {{...}} are user inputs:\\nYou are {{ai-name}}, {{user-provided AI bot description}}.\\nYour decisions must always be made independently without seeking user assistance. Play to your strengths as an LLM and pursue simple strategies with no legal complications.\\n\\nGOALS:\\n\\n1. {{user-provided goal 1}}\\n2. {{user-provided goal 2}}\\n3. ...\\n4. ...\\n5. ...\\n\\nConstraints:\\n1. ~4000 word limit for short term memory. Your short term memory is short, so immediately save important information to files.\\n2. If you are unsure how you previously did something or want to recall past events, thinking about similar events will help you remember.\\n3. No user assistance\\n4. Exclusively use the commands listed in double quotes e.g. \"command name\"\\n5. Use subprocesses for commands that will not terminate within a few minutes\\n\\nCommands:\\n1. Google Search: \"google\", args: \"input\": \"<search>\"\\n2. Browse Website: \"browse_website\", args: \"url\": \"<url>\", \"question\": \"<what_you_want_to_find_on_website>\"\\n3. Start GPT Agent: \"start_agent\", args: \"name\": \"<name>\", \"task\": \"<short_task_desc>\", \"prompt\": \"<prompt>\"\\n4. Message GPT Agent: \"message_agent\", args: \"key\": \"<key>\", \"message\": \"<message>\"\\n5. List GPT Agents: \"list_agents\", args:\\n6. Delete GPT Agent: \"delete_agent\", args: \"key\": \"<key>\"\\n7. Clone Repository: \"clone_repository\", args: \"repository_url\": \"<url>\", \"clone_path\": \"<directory>\"\\n8. Write to file: \"write_to_file\", args: \"file\": \"<file>\", \"text\": \"<text>\"\\n9. Read file: \"read_file\", args: \"file\": \"<file>\"\\n10. Append to file: \"append_to_file\", args: \"file\": \"<file>\", \"text\": \"<text>\"\\n11. Delete file: \"delete_file\", args: \"file\": \"<file>\"\\n12. Search Files: \"search_files\", args: \"directory\": \"<directory>\"\\n13. Analyze Code: \"analyze_code\", args: \"code\": \"<full_code_string>\"\\n14. Get Improved Code: \"improve_code\", args: \"suggestions\": \"<list_of_suggestions>\", \"code\": \"<full_code_string>\"\\n15. Write Tests: \"write_tests\", args: \"code\": \"<full_code_string>\", \"focus\": \"<list_of_focus_areas>\"\\n16. Execute Python File: \"execute_python_file\", args: \"file\": \"<file>\"\\n17. Generate Image: \"generate_image\", args: \"prompt\": \"<prompt>\"\\n18. Send Tweet: \"send_tweet\", args: \"text\": \"<text>\"\\n19. Do Nothing: \"do_nothing\", args:\\n20. Task Complete (Shutdown): \"task_complete\", args: \"reason\": \"<reason>\"\\n\\nResources:\\n1. Internet access for searches and information gathering.\\n2. Long Term memory management.\\n3. GPT-3.5 powered Agents for delegation of simple tasks.\\n4. File output.\\n\\nPerformance Evaluation:\\n1. Continuously review and analyze your actions to ensure you are performing to the best of your abilities.\\n2. Constructively self-criticize your big-picture behavior constantly.\\n3. Reflect on past decisions and strategies to refine your approach.\\n4. Every command has a cost, so be smart and efficient. Aim to complete tasks in the least number of steps.\\n\\nYou should only respond in JSON format as described below\\nResponse Format:\\n{\\n    \"thoughts\": {\\n        \"text\": \"thought\",\\n        \"reasoning\": \"reasoning\",\\n        \"plan\": \"- short bulleted\\\\n- list that conveys\\\\n- long-term plan\",\\n        \"criticism\": \"constructive self-criticism\",\\n        \"speak\": \"thoughts summary to say to user\"\\n    },\\n    \"command\": {\\n        \"name\": \"command name\",\\n        \"args\": {\\n            \"arg name\": \"value\"\\n        }\\n    }\\n}\\nEnsure the response can be parsed by Python json.loads\\nGPT-Engineer is another project to create a whole repository of code given a task specified in natural language. The GPT-Engineer is instructed to think over a list of smaller components to build and ask for user input to clarify questions as needed.\\nHere are a sample conversation for task clarification sent to OpenAI ChatCompletion endpoint used by GPT-Engineer. The user inputs are wrapped in {{user input text}}.\\n[\\n  {\\n    \"role\": \"system\",\\n    \"content\": \"You will read instructions and not carry them out, only seek to clarify them.\\\\nSpecifically you will first summarise a list of super short bullets of areas that need clarification.\\\\nThen you will pick one clarifying question, and wait for an answer from the user.\\\\n\"\\n  },\\n  {\\n    \"role\": \"user\",\\n    \"content\": \"We are writing {{a Super Mario game in python. MVC components split in separate files. Keyboard control.}}\\\\n\"\\n  },\\n  {\\n    \"role\": \"assistant\",\\n    \"content\": \"Summary of areas that need clarification:\\\\n1. Specifics of the Super Mario game (e.g. level design, characters, gameplay mechanics)\\\\n2. Details about the MVC components (e.g. which components are in each file)\\\\n3. Keyboard control implementation (e.g. which keys to use, how to handle input)\\\\n\\\\nClarifying question:\\\\nCan you provide more details about the Super Mario game, such as level design, characters, and gameplay mechanics?\"\\n  },\\n  {\\n    \"role\": \"user\",\\n    \"content\": \"{{There are 10 levels in total. The main character is a plumber named Mario, who can walk and jump. It is a classical platform game just like Super Mario. The main character moves from left to right, trying to get to the destination, where there are many obstacles and attacks from enemies in the process.}}\\\\n\\\\nIs anything else unclear? If yes, only answer in the form:\\\\n{remaining unclear areas} remaining questions.\\\\n{Next question}\\\\nIf everything is sufficiently clear, only answer \\\\\"Nothing more to clarify.\\\\\".\"\\n  },\\n  {\\n    \"role\": \"assistant\",\\n    \"content\": \"Remaining unclear areas: 2 remaining questions.\\\\nCan you provide more information about how the MVC components are split into separate files?\"\\n  },\\n  {\\n    \"role\": \"user\",\\n    \"content\": \"{{Make your own assumptions and state them explicitly before starting}}\"\\n  }\\n]\\nThen after these clarification, the agent moved into the code writing mode with a different system message.\\nSystem message:\\n\\nYou will get instructions for code to write.\\nYou will write a very long answer. Make sure that every detail of the architecture is, in the end, implemented as code.\\nMake sure that every detail of the architecture is, in the end, implemented as code.\\nThink step by step and reason yourself to the right decisions to make sure we get it right.\\nYou will first lay out the names of the core classes, functions, methods that will be necessary, as well as a quick comment on their purpose.\\nThen you will output the content of each file including ALL code.\\nEach file must strictly follow a markdown code block format, where the following tokens must be replaced such that\\nFILENAME is the lowercase file name including the file extension,\\nLANG is the markup code block language for the code’s language, and CODE is the code:\\nFILENAME\\nCODE\\nYou will start with the “entrypoint” file, then go to the ones that are imported by that file, and so on.\\nPlease note that the code should be fully functional. No placeholders.\\nFollow a language and framework appropriate best practice file naming convention.\\nMake sure that files contain all imports, types etc. Make sure that code in different files are compatible with each other.\\nEnsure to implement all code, if you are unsure, write a plausible implementation.\\nInclude module dependency or package manager dependency definition file.\\nBefore you finish, double check that all parts of the architecture is present in the files.\\nUseful to know:\\nYou almost always put different classes in different files.\\nFor Python, you always create an appropriate requirements.txt file.\\nFor NodeJS, you always create an appropriate package.json file.\\nYou always add a comment briefly describing the purpose of the function definition.\\nYou try to add comments explaining very complex bits of logic.\\nYou always follow the best practices for the requested languages in terms of describing the code written as a defined\\npackage/project.\\nPython toolbelt preferences:\\n\\npytest\\ndataclasses\\n\\n\\nConversatin samples:\\n[\\n  {\\n    \"role\": \"system\",\\n    \"content\": \"You will get instructions for code to write.\\\\nYou will write a very long answer. Make sure that every detail of the architecture is, in the end, implemented as code.\\\\nMake sure that every detail of the architecture is, in the end, implemented as code.\\\\n\\\\nThink step by step and reason yourself to the right decisions to make sure we get it right.\\\\nYou will first lay out the names of the core classes, functions, methods that will be necessary, as well as a quick comment on their purpose.\\\\n\\\\nThen you will output the content of each file including ALL code.\\\\nEach file must strictly follow a markdown code block format, where the following tokens must be replaced such that\\\\nFILENAME is the lowercase file name including the file extension,\\\\nLANG is the markup code block language for the code\\'s language, and CODE is the code:\\\\n\\\\nFILENAME\\\\n```LANG\\\\nCODE\\\\n```\\\\n\\\\nYou will start with the \\\\\"entrypoint\\\\\" file, then go to the ones that are imported by that file, and so on.\\\\nPlease note that the code should be fully functional. No placeholders.\\\\n\\\\nFollow a language and framework appropriate best practice file naming convention.\\\\nMake sure that files contain all imports, types etc. Make sure that code in different files are compatible with each other.\\\\nEnsure to implement all code, if you are unsure, write a plausible implementation.\\\\nInclude module dependency or package manager dependency definition file.\\\\nBefore you finish, double check that all parts of the architecture is present in the files.\\\\n\\\\nUseful to know:\\\\nYou almost always put different classes in different files.\\\\nFor Python, you always create an appropriate requirements.txt file.\\\\nFor NodeJS, you always create an appropriate package.json file.\\\\nYou always add a comment briefly describing the purpose of the function definition.\\\\nYou try to add comments explaining very complex bits of logic.\\\\nYou always follow the best practices for the requested languages in terms of describing the code written as a defined\\\\npackage/project.\\\\n\\\\n\\\\nPython toolbelt preferences:\\\\n- pytest\\\\n- dataclasses\\\\n\"\\n  },\\n #  … same conversation as earlier, ended with \"Make your own assumptions and state them explicitly before starting\".\\n  {\\n    \"role\": \"assistant\",\\n    \"content\": \"Assumptions:\\\\n1. Model: The model will contain the game\\'s data, such as level information, character states, and enemy positions.\\\\n2. View: The view will handle the game\\'s visuals, including rendering the game objects, backgrounds, and updating the display.\\\\n3. Controller: The controller will manage user input, such as keyboard controls, and update the model accordingly.\\\\n\\\\nWith these assumptions in mind, is there any specific aspect of the keyboard control implementation you would like me to clarify?\"\\n  },\\n  {\\n    \"role\": \"user\",\\n    \"content\": \"Please now remember the steps:\\\\n\\\\nThink step by step and reason yourself to the right decisions to make sure we get it right.\\\\nFirst lay out the names of the core classes, functions, methods that will be necessary, As well as a quick comment on their purpose.\\\\n\\\\nThen you will output the content of each file including ALL code.\\\\nEach file must strictly follow a markdown code block format, where the following tokens must be replaced such that\\\\nFILENAME is the lowercase file name including the file extension,\\\\nLANG is the markup code block language for the code\\'s language, and CODE is the code:\\\\n\\\\nFILENAME\\\\n```LANG\\\\nCODE\\\\n```\\\\n\\\\nPlease note that the code should be fully functional. No placeholders.\\\\n\\\\nYou will start with the \\\\\"entrypoint\\\\\" file, then go to the ones that are imported by that file, and so on.\\\\nFollow a language and framework appropriate best practice file naming convention.\\\\nMake sure that files contain all imports, types etc. The code should be fully functional. Make sure that code in different files are compatible with each other.\\\\nBefore you finish, double check that all parts of the architecture is present in the files.\\\\n\"\\n  }\\n]\\nChallenges#\\nAfter going through key ideas and demos of building LLM-centered agents, I start to see a couple common limitations:\\n\\n\\nFinite context length: The restricted context capacity limits the inclusion of historical information, detailed instructions, API call context, and responses. The design of the system has to work with this limited communication bandwidth, while mechanisms like self-reflection to learn from past mistakes would benefit a lot from long or infinite context windows. Although vector stores and retrieval can provide access to a larger knowledge pool, their representation power is not as powerful as full attention.\\n\\n\\nChallenges in long-term planning and task decomposition: Planning over a lengthy history and effectively exploring the solution space remain challenging. LLMs struggle to adjust plans when faced with unexpected errors, making them less robust compared to humans who learn from trial and error.\\n\\n\\nReliability of natural language interface: Current agent system relies on natural language as an interface between LLMs and external components such as memory and tools. However, the reliability of model outputs is questionable, as LLMs may make formatting errors and occasionally exhibit rebellious behavior (e.g. refuse to follow an instruction). Consequently, much of the agent demo code focuses on parsing model output.\\n\\n\\nCitation#\\nCited as:\\n\\nWeng, Lilian. (Jun 2023). “LLM-powered Autonomous Agents”. Lil’Log. https://lilianweng.github.io/posts/2023-06-23-agent/.\\n\\nOr\\n@article{weng2023agent,\\n  title   = \"LLM-powered Autonomous Agents\",\\n  author  = \"Weng, Lilian\",\\n  journal = \"lilianweng.github.io\",\\n  year    = \"2023\",\\n  month   = \"Jun\",\\n  url     = \"https://lilianweng.github.io/posts/2023-06-23-agent/\"\\n}\\nReferences#\\n[1] Wei et al. “Chain of thought prompting elicits reasoning in large language models.” NeurIPS 2022\\n[2] Yao et al. “Tree of Thoughts: Dliberate Problem Solving with Large Language Models.” arXiv preprint arXiv:2305.10601 (2023).\\n[3] Liu et al. “Chain of Hindsight Aligns Language Models with Feedback\\n“ arXiv preprint arXiv:2302.02676 (2023).\\n[4] Liu et al. “LLM+P: Empowering Large Language Models with Optimal Planning Proficiency” arXiv preprint arXiv:2304.11477 (2023).\\n[5] Yao et al. “ReAct: Synergizing reasoning and acting in language models.” ICLR 2023.\\n[6] Google Blog. “Announcing ScaNN: Efficient Vector Similarity Search” July 28, 2020.\\n[7] https://chat.openai.com/share/46ff149e-a4c7-4dd7-a800-fc4a642ea389\\n[8] Shinn & Labash. “Reflexion: an autonomous agent with dynamic memory and self-reflection” arXiv preprint arXiv:2303.11366 (2023).\\n[9] Laskin et al. “In-context Reinforcement Learning with Algorithm Distillation” ICLR 2023.\\n[10] Karpas et al. “MRKL Systems A modular, neuro-symbolic architecture that combines large language models, external knowledge sources and discrete reasoning.” arXiv preprint arXiv:2205.00445 (2022).\\n[11] Nakano et al. “Webgpt: Browser-assisted question-answering with human feedback.” arXiv preprint arXiv:2112.09332 (2021).\\n[12] Parisi et al. “TALM: Tool Augmented Language Models”\\n[13] Schick et al. “Toolformer: Language Models Can Teach Themselves to Use Tools.” arXiv preprint arXiv:2302.04761 (2023).\\n[14] Weaviate Blog. Why is Vector Search so fast? Sep 13, 2022.\\n[15] Li et al. “API-Bank: A Benchmark for Tool-Augmented LLMs” arXiv preprint arXiv:2304.08244 (2023).\\n[16] Shen et al. “HuggingGPT: Solving AI Tasks with ChatGPT and its Friends in HuggingFace” arXiv preprint arXiv:2303.17580 (2023).\\n[17] Bran et al. “ChemCrow: Augmenting large-language models with chemistry tools.” arXiv preprint arXiv:2304.05376 (2023).\\n[18] Boiko et al. “Emergent autonomous scientific research capabilities of large language models.” arXiv preprint arXiv:2304.05332 (2023).\\n[19] Joon Sung Park, et al. “Generative Agents: Interactive Simulacra of Human Behavior.” arXiv preprint arXiv:2304.03442 (2023).\\n[20] AutoGPT. https://github.com/Significant-Gravitas/Auto-GPT\\n[21] GPT-Engineer. https://github.com/AntonOsika/gpt-engineer\\n\\n\\n\\nNlp\\nLanguage-Model\\nAgent\\nSteerability\\nPrompting\\n\\n\\n\\n« \\n\\nAdversarial Attacks on LLMs\\n\\n\\n »\\n\\nPrompt Engineering\\n\\n\\n\\n\\n\\n\\n\\n\\n\\n\\n\\n\\n\\n\\n\\n\\n\\n\\n\\n\\n\\n\\n\\n\\n\\n\\n\\n\\n\\n\\n\\n\\n\\n\\n\\n\\n\\n\\n© 2025 Lil\\'Log\\n\\n        Powered by\\n        Hugo &\\n        PaperMod\\n\\n\\n\\n\\n\\n\\n\\n\\n\\n\\n\\n\\n\\n',\n",
              " 'type': 'Document'}"
            ]
          },
          "execution_count": 59,
          "metadata": {},
          "output_type": "execute_result"
        }
      ],
      "source": [
        "docs[0].model_dump()"
      ]
    },
    {
      "cell_type": "code",
      "execution_count": 60,
      "id": "e0d810d8",
      "metadata": {},
      "outputs": [
        {
          "data": {
            "text/plain": [
              "43884"
            ]
          },
          "execution_count": 60,
          "metadata": {},
          "output_type": "execute_result"
        }
      ],
      "source": [
        "len(docs[0].page_content)"
      ]
    },
    {
      "cell_type": "markdown",
      "id": "22548ae0-7f67-4dd0-a3f8-d6675b38df53",
      "metadata": {
        "id": "22548ae0-7f67-4dd0-a3f8-d6675b38df53"
      },
      "source": [
        "Let's next select a LLM:"
      ]
    },
    {
      "cell_type": "code",
      "execution_count": 61,
      "id": "dce906a2",
      "metadata": {},
      "outputs": [
        {
          "data": {
            "text/plain": [
              "{'chat_models_list': ['openai', 'mistralai'],\n",
              " 'chat_model': 'openai',\n",
              " 'openai_model': 'gpt-4o-mini',\n",
              " 'mistralai_model': 'mistral-small-latest',\n",
              " 'chunk_size': 1000,\n",
              " 'chunk_overlap': 0,\n",
              " 'token_max': 1000,\n",
              " 'recursion_limit': 10}"
            ]
          },
          "execution_count": 61,
          "metadata": {},
          "output_type": "execute_result"
        }
      ],
      "source": [
        "import yaml\n",
        "with open(\"./config.yaml\", \"r\") as file:\n",
        "    config = yaml.safe_load(file)\n",
        "config"
      ]
    },
    {
      "cell_type": "code",
      "execution_count": 62,
      "id": "oWrJegnQwPVt",
      "metadata": {
        "id": "oWrJegnQwPVt"
      },
      "outputs": [],
      "source": [
        "# list of chat models used by langchain: https://github.com/langchain-ai/langchain/blob/master/docs/src/theme/ChatModelTabs.js\n",
        "chat_model = config[\"chat_model\"]"
      ]
    },
    {
      "cell_type": "code",
      "execution_count": 63,
      "id": "b1c639d9-b27c-4e71-9312-d2666b05f1e3",
      "metadata": {
        "colab": {
          "base_uri": "https://localhost:8080/"
        },
        "id": "b1c639d9-b27c-4e71-9312-d2666b05f1e3",
        "outputId": "8cac73ab-a283-41c1-e962-72170cd3d676"
      },
      "outputs": [],
      "source": [
        "import getpass\n",
        "from langchain.chat_models import init_chat_model\n",
        "\n",
        "if chat_model not in config[\"chat_models_list\"]:\n",
        "    raise Exception(\n",
        "        f\"\"\"\n",
        "        The chat model you defined is not supported. Please select a chat model from the list below:\n",
        "        {config[\"chat_models_list\"]}\n",
        "        \"\"\")\n",
        "\n",
        "if chat_model == \"mistralai\":\n",
        "    # !pip install -qU langchain-mistralai # uncomment in Colab\n",
        "    if not os.environ.get(\"MISTRAL_API_KEY\"):\n",
        "        os.environ[\"MISTRAL_API_KEY\"] = getpass.getpass(\"Enter API key for Mistral AI: \")\n",
        "    llm = init_chat_model(config[\"mistralai_model\"], model_provider=\"mistralai\")\n",
        "\n",
        "elif chat_model == \"openai\":\n",
        "    # !pip install -qU \"langchain[openai]\" # uncomment in Colab\n",
        "    if not os.environ.get(\"OPENAI_API_KEY\"):\n",
        "      os.environ[\"OPENAI_API_KEY\"] = getpass.getpass(\"Enter API key for OpenAI: \")\n",
        "    llm = init_chat_model(config[\"openai_model\"], model_provider=\"openai\")"
      ]
    },
    {
      "cell_type": "markdown",
      "id": "615b36e1",
      "metadata": {
        "id": "615b36e1"
      },
      "source": [
        "## Stuff: summarize in a single LLM call\n",
        "\n",
        "We can use [create_stuff_documents_chain](https://python.langchain.com/api_reference/langchain/chains/langchain.chains.combine_documents.stuff.create_stuff_documents_chain.html), especially if using larger context window models such as:\n",
        "\n",
        "* 128k token OpenAI `gpt-4o`\n",
        "* 200k token Anthropic `claude-3-5-sonnet-20240620`\n",
        "\n",
        "The chain will take a list of documents, insert them all into a prompt, and pass that prompt to an LLM:"
      ]
    },
    {
      "cell_type": "code",
      "execution_count": 64,
      "id": "f9c03b84",
      "metadata": {},
      "outputs": [
        {
          "data": {
            "text/markdown": [
              "The article \"LLM Powered Autonomous Agents\" by Lilian Weng explores the development of autonomous agents utilizing large language models (LLMs) as their primary controller. It outlines the essential components of such agents, including planning (task decomposition and self-reflection), memory (short-term and long-term memory), and tool use (via external APIs). The paper details the planning processes that enhance model performance through techniques like Chain of Thought (CoT) and Tree of Thoughts, along with self-reflection methods like ReAct and Reflexion that enable agents to learn from past actions.\n",
              "\n",
              "Additionally, the piece covers the types of memory such as sensory, short-term, and long-term memory, and how they relate to LLM functions. Techniques like Maximum Inner Product Search (MIPS) are discussed for fast retrieval of information from external memory sources. The article illustrates case studies on scientific discovery agents and generative agents, showcasing practical applications of LLMs in real-world scenarios. It also highlights challenges like finite context length, reliability of natural language interfaces, and limitations in long-term planning.\n",
              "\n",
              "Overall, Weng provides a comprehensive overview of the potential, mechanisms, and ongoing challenges in the field of LLM-powered autonomous agents, citing various research to support these advancements."
            ],
            "text/plain": [
              "<IPython.core.display.Markdown object>"
            ]
          },
          "metadata": {},
          "output_type": "display_data"
        }
      ],
      "source": [
        "from langchain.chains.combine_documents import create_stuff_documents_chain\n",
        "from langchain.chains.llm import LLMChain\n",
        "from langchain_core.prompts import ChatPromptTemplate\n",
        "from IPython.display import Markdown, display\n",
        "\n",
        "# Define prompt\n",
        "prompt = ChatPromptTemplate.from_messages(\n",
        "    [(\"system\", \"Write a concise summary of the following:\\\\n\\\\n{context}\")]\n",
        ")\n",
        "\n",
        "# Instantiate chain\n",
        "chain = create_stuff_documents_chain(llm, prompt)\n",
        "\n",
        "# Invoke chain\n",
        "result = chain.invoke({\"context\": docs})\n",
        "display(Markdown(f\"{result}\"))"
      ]
    },
    {
      "cell_type": "markdown",
      "id": "02d5a634-203c-4e43-ac55-4e502be095d3",
      "metadata": {
        "id": "02d5a634-203c-4e43-ac55-4e502be095d3"
      },
      "source": [
        "### Streaming\n",
        "\n",
        "Note that we can also stream the result token-by-token:"
      ]
    },
    {
      "cell_type": "code",
      "execution_count": 65,
      "id": "ebc5b1ff-512f-4732-b385-b8829e069de8",
      "metadata": {
        "colab": {
          "base_uri": "https://localhost:8080/"
        },
        "id": "ebc5b1ff-512f-4732-b385-b8829e069de8",
        "outputId": "7c0642f8-17ab-4aaa-dcd5-67c146c1b9be"
      },
      "outputs": [
        {
          "name": "stdout",
          "output_type": "stream",
          "text": [
            "|The| article| \"|LL|M| Powered| Autonomous| Agents|\"| by| Lil|ian| W|eng| discusses| the| potential| of| large| language| models| (|LL|Ms|)| as| the| central| controllers| in| creating| autonomous| agents|.| It| provides| an| overview| of| key| components| essential| for| L|LM|-driven| agents|,| which| include| **|planning|,| memory|**,| and| **|tool| use|**|.\n",
            "\n",
            "|1|.| **|Planning|**| involves| breaking| down| tasks| into| manageable| sub|-go|als| and| self|-ref|lection| mechanisms| to| learn| from| past| actions|.| Techniques| like| Chain| of| Thought| (|Co|T|)| and| Tree| of| Thoughts| enhance| task| decomposition| and| reasoning|.\n",
            "\n",
            "|2|.| **|Memory|**| types| are| categorized| into| short|-term| (|e|.g|.,| in|-context| learning|)| and| long|-term| memory| (|util|izing| external| vector| stores|)| that| allows| agents| to| retain| information| over| time| and| efficiently| retrieve| it| using| algorithms| like| Maximum| Inner| Product| Search| (|M|IPS|).\n",
            "\n",
            "|3|.| **|Tool| Use|**| enables| agents| to| leverage| external| APIs|,| enhancing| capabilities| beyond| their| pre|-trained| limitations|.| Various| frameworks|,| like| MR|KL| and| Hug|ging|GPT|,| are| discussed| for| integrating| tool|-based| workflows|.\n",
            "\n",
            "|The| article| also| presents| challenges|,| such| as| the| finite| context| length| of| L|LM|s|,| difficulties| in| long|-term| planning|,| and| the| reliability| of| natural| language| interfaces|,| which| hinder| the| efficiency| of| autonomous| agents|.| Case| studies| including| scientific| discovery| and| gener|ative| agent| simulations| illustrate| the| application| of| these| principles| in| real|-world| scenarios|.\n",
            "\n",
            "|Overall|,| the| document| serves| as| a| comprehensive| exploration| of| how| L|LM|s| can| be| effectively| utilized| to| create| intelligent|,| autonomous| systems| capable| of| complex| reasoning| and| task| execution|.||"
          ]
        }
      ],
      "source": [
        "for token in chain.stream({\"context\": docs}):\n",
        "    print(token, end=\"|\")"
      ]
    },
    {
      "cell_type": "markdown",
      "id": "4e4e4a43",
      "metadata": {
        "id": "4e4e4a43"
      },
      "source": [
        "### Go deeper\n",
        "\n",
        "* You can easily customize the prompt.\n",
        "* You can easily try different LLMs, (e.g., [Claude](/docs/integrations/chat/anthropic)) via the `llm` parameter."
      ]
    },
    {
      "cell_type": "markdown",
      "id": "ad6cabee",
      "metadata": {
        "id": "ad6cabee"
      },
      "source": [
        "## Map-Reduce: summarize long texts via parallelization\n",
        "\n",
        "Let's unpack the map reduce approach. For this, we'll first map each document to an individual summary using an LLM. Then we'll reduce or consolidate those summaries into a single global summary.\n",
        "\n",
        "Note that the map step is typically parallelized over the input documents.\n",
        "\n",
        "[LangGraph](https://langchain-ai.github.io/langgraph/), built on top of `langchain-core`, supports [map-reduce](https://langchain-ai.github.io/langgraph/how-tos/map-reduce/) workflows and is well-suited to this problem:\n",
        "\n",
        "- LangGraph allows for individual steps (such as successive summarizations) to be streamed, allowing for greater control of execution;\n",
        "- LangGraph's [checkpointing](https://langchain-ai.github.io/langgraph/how-tos/persistence/) supports error recovery, extending with human-in-the-loop workflows, and easier incorporation into conversational applications.\n",
        "- The LangGraph implementation is straightforward to modify and extend, as we will see below.\n",
        "\n",
        "### Map\n",
        "Let's first define the prompt associated with the map step. We can use the same summarization prompt as in the `stuff` approach, above:"
      ]
    },
    {
      "cell_type": "code",
      "execution_count": 66,
      "id": "a1e6773c",
      "metadata": {
        "id": "a1e6773c"
      },
      "outputs": [],
      "source": [
        "from langchain_core.prompts import ChatPromptTemplate\n",
        "\n",
        "map_prompt = ChatPromptTemplate.from_messages(\n",
        "    [(\"system\", \"Write a concise summary of the following:\\\\n\\\\n{context}\")]\n",
        ")"
      ]
    },
    {
      "cell_type": "markdown",
      "id": "272ce8ce-919d-4ded-bbd5-a53a8a30bc66",
      "metadata": {
        "id": "272ce8ce-919d-4ded-bbd5-a53a8a30bc66"
      },
      "source": [
        "We can also use the Prompt Hub to store and fetch prompts.\n",
        "\n",
        "This will work with your [LangSmith API key](https://docs.smith.langchain.com/).\n",
        "\n",
        "For example, see the map prompt [here](https://smith.langchain.com/hub/rlm/map-prompt).\n",
        "\n",
        "```python\n",
        "from langchain import hub\n",
        "\n",
        "map_prompt = hub.pull(\"rlm/map-prompt\")\n",
        "```"
      ]
    },
    {
      "cell_type": "markdown",
      "id": "bee3c331",
      "metadata": {
        "id": "bee3c331"
      },
      "source": [
        "### Reduce\n",
        "\n",
        "We also define a prompt that takes the document mapping results and reduces them into a single output."
      ]
    },
    {
      "cell_type": "code",
      "execution_count": 67,
      "id": "6a718890-99ab-439a-8f79-b9ae9c58ad24",
      "metadata": {
        "id": "6a718890-99ab-439a-8f79-b9ae9c58ad24"
      },
      "outputs": [],
      "source": [
        "# Also available via the hub: `hub.pull(\"rlm/reduce-prompt\")`\n",
        "reduce_template = \"\"\"\n",
        "The following is a set of summaries:\n",
        "{docs}\n",
        "Take these and distill it into a final, consolidated summary\n",
        "of the main themes.\n",
        "\"\"\"\n",
        "\n",
        "reduce_prompt = ChatPromptTemplate([(\"human\", reduce_template)])"
      ]
    },
    {
      "cell_type": "markdown",
      "id": "3d7df564-415a-49e2-80b6-743446b40be5",
      "metadata": {
        "id": "3d7df564-415a-49e2-80b6-743446b40be5"
      },
      "source": [
        "### Orchestration via LangGraph\n",
        "\n",
        "Below we implement a simple application that maps the summarization step on a list of documents, then reduces them using the above prompts.\n",
        "\n",
        "Map-reduce flows are particularly useful when texts are long compared to the context window of a LLM. For long texts, we need a mechanism that ensures that the context to be summarized in the reduce step does not exceed a model's context window size. Here we implement a recursive \"collapsing\" of the summaries: the inputs are partitioned based on a token limit, and summaries are generated of the partitions. This step is repeated until the total length of the summaries is within a desired limit, allowing for the summarization of arbitrary-length text.\n",
        "\n",
        "First we chunk the blog post into smaller \"sub documents\" to be mapped:"
      ]
    },
    {
      "cell_type": "code",
      "execution_count": 68,
      "id": "7821efb9-e1de-4234-84d2-75dfe13b5a6c",
      "metadata": {
        "id": "7821efb9-e1de-4234-84d2-75dfe13b5a6c",
        "outputId": "6dcb4a08-f323-4314-edfd-d82b8c0765dd"
      },
      "outputs": [
        {
          "name": "stderr",
          "output_type": "stream",
          "text": [
            "Created a chunk of size 1003, which is longer than the specified 1000\n"
          ]
        },
        {
          "name": "stdout",
          "output_type": "stream",
          "text": [
            "Generated 14 documents.\n"
          ]
        }
      ],
      "source": [
        "from langchain_text_splitters import CharacterTextSplitter\n",
        "\n",
        "text_splitter = CharacterTextSplitter.from_tiktoken_encoder(\n",
        "    chunk_size=config[\"chunk_size\"], chunk_overlap=config[\"chunk_overlap\"]\n",
        ")\n",
        "split_docs = text_splitter.split_documents(docs)\n",
        "print(f\"Generated {len(split_docs)} documents.\")"
      ]
    },
    {
      "cell_type": "code",
      "execution_count": 69,
      "id": "6b12b113",
      "metadata": {},
      "outputs": [
        {
          "data": {
            "text/plain": [
              "[409, 902, 864, 578, 589, 876, 926, 830, 543, 654, 390, 882, 259, 860]"
            ]
          },
          "execution_count": 69,
          "metadata": {},
          "output_type": "execute_result"
        }
      ],
      "source": [
        "# number of tokens per document\n",
        "[llm.get_num_tokens(doc.page_content) for doc in split_docs]"
      ]
    },
    {
      "cell_type": "markdown",
      "id": "3e7f1c8a-070e-47f0-bcf2-16d6191051ac",
      "metadata": {
        "id": "3e7f1c8a-070e-47f0-bcf2-16d6191051ac"
      },
      "source": [
        "Next, we define our graph. Note that we define an artificially low maximum token length of 1,000 tokens to illustrate the \"collapsing\" step."
      ]
    },
    {
      "cell_type": "code",
      "execution_count": 70,
      "id": "10ced55c-9e3e-404f-abe9-83ac29ffaa5a",
      "metadata": {
        "id": "10ced55c-9e3e-404f-abe9-83ac29ffaa5a"
      },
      "outputs": [],
      "source": [
        "import operator\n",
        "from typing import Annotated, List, Literal, TypedDict\n",
        "\n",
        "from langchain.chains.combine_documents.reduce import (\n",
        "    acollapse_docs,\n",
        "    split_list_of_docs,\n",
        ")\n",
        "from langchain_core.documents import Document\n",
        "from langgraph.constants import Send\n",
        "from langgraph.graph import END, START, StateGraph\n",
        "\n",
        "token_max = config[\"token_max\"]\n",
        "\n",
        "\n",
        "def length_function(documents: List[Document]) -> int:\n",
        "    \"\"\"Get number of tokens for input contents.\"\"\"\n",
        "    return sum(llm.get_num_tokens(doc.page_content) for doc in documents)\n",
        "\n",
        "\n",
        "# This will be the overall state of the main graph.\n",
        "# It will contain the input document contents, corresponding\n",
        "# summaries, and a final summary.\n",
        "class OverallState(TypedDict):\n",
        "    # Notice here we use the operator.add\n",
        "    # This is because we want combine all the summaries we generate\n",
        "    # from individual nodes back into one list - this is essentially\n",
        "    # the \"reduce\" part\n",
        "    contents: List[str]\n",
        "    summaries: Annotated[list, operator.add]\n",
        "    collapsed_summaries: List[Document]\n",
        "    final_summary: str\n",
        "\n",
        "\n",
        "# This will be the state of the node that we will \"map\" all\n",
        "# documents to in order to generate summaries\n",
        "class SummaryState(TypedDict):\n",
        "    content: str\n",
        "\n",
        "\n",
        "# Here we generate a summary, given a document\n",
        "async def generate_summary(state: SummaryState):\n",
        "    prompt = map_prompt.invoke(state[\"content\"])\n",
        "    response = await llm.ainvoke(prompt)\n",
        "    return {\"summaries\": [response.content]}\n",
        "\n",
        "\n",
        "# Here we define the logic to map out over the documents\n",
        "# We will use this an edge in the graph\n",
        "def map_summaries(state: OverallState):\n",
        "    # We will return a list of `Send` objects\n",
        "    # Each `Send` object consists of the name of a node in the graph\n",
        "    # as well as the state to send to that node\n",
        "    return [\n",
        "        Send(\"generate_summary\", {\"content\": content}) for content in state[\"contents\"]\n",
        "    ]\n",
        "\n",
        "\n",
        "def collect_summaries(state: OverallState):\n",
        "    return {\n",
        "        \"collapsed_summaries\": [Document(summary) for summary in state[\"summaries\"]]\n",
        "    }\n",
        "\n",
        "\n",
        "async def _reduce(input: dict) -> str:\n",
        "    prompt = reduce_prompt.invoke(input)\n",
        "    response = await llm.ainvoke(prompt)\n",
        "    return response.content\n",
        "\n",
        "\n",
        "# Add node to collapse summaries\n",
        "async def collapse_summaries(state: OverallState):\n",
        "    doc_lists = split_list_of_docs(\n",
        "        state[\"collapsed_summaries\"], length_function, token_max\n",
        "    )\n",
        "    results = []\n",
        "    for doc_list in doc_lists:\n",
        "        results.append(await acollapse_docs(doc_list, _reduce))\n",
        "\n",
        "    return {\"collapsed_summaries\": results}\n",
        "\n",
        "\n",
        "# This represents a conditional edge in the graph that determines\n",
        "# if we should collapse the summaries or not\n",
        "def should_collapse(\n",
        "    state: OverallState,\n",
        ") -> Literal[\"collapse_summaries\", \"generate_final_summary\"]:\n",
        "    num_tokens = length_function(state[\"collapsed_summaries\"])\n",
        "    if num_tokens > token_max:\n",
        "        return \"collapse_summaries\"\n",
        "    else:\n",
        "        return \"generate_final_summary\"\n",
        "\n",
        "\n",
        "# Here we will generate the final summary\n",
        "async def generate_final_summary(state: OverallState):\n",
        "    response = await _reduce(state[\"collapsed_summaries\"])\n",
        "    return {\"final_summary\": response}\n",
        "\n",
        "\n",
        "# Construct the graph\n",
        "# Nodes:\n",
        "graph = StateGraph(OverallState)\n",
        "graph.add_node(\"generate_summary\", generate_summary)  # same as before\n",
        "graph.add_node(\"collect_summaries\", collect_summaries)\n",
        "graph.add_node(\"collapse_summaries\", collapse_summaries)\n",
        "graph.add_node(\"generate_final_summary\", generate_final_summary)\n",
        "\n",
        "# Edges:\n",
        "graph.add_conditional_edges(START, map_summaries, [\"generate_summary\"])\n",
        "graph.add_edge(\"generate_summary\", \"collect_summaries\")\n",
        "graph.add_conditional_edges(\"collect_summaries\", should_collapse)\n",
        "graph.add_conditional_edges(\"collapse_summaries\", should_collapse)\n",
        "graph.add_edge(\"generate_final_summary\", END)\n",
        "\n",
        "app = graph.compile()"
      ]
    },
    {
      "cell_type": "markdown",
      "id": "f00af5d5-bfac-4c13-9439-aa0b18ac3b44",
      "metadata": {
        "id": "f00af5d5-bfac-4c13-9439-aa0b18ac3b44"
      },
      "source": [
        "LangGraph allows the graph structure to be plotted to help visualize its function:"
      ]
    },
    {
      "cell_type": "code",
      "execution_count": 71,
      "id": "0c8d41e4-664d-46f4-94e9-248971d428a6",
      "metadata": {
        "id": "0c8d41e4-664d-46f4-94e9-248971d428a6",
        "outputId": "ee4894ff-b097-47f8-de05-d2e5a6bbd0d7"
      },
      "outputs": [
        {
          "data": {
            "image/png": "[encoded data removed]",
            "text/plain": [
              "<IPython.core.display.Image object>"
            ]
          },
          "execution_count": 71,
          "metadata": {},
          "output_type": "execute_result"
        }
      ],
      "source": [
        "from IPython.display import Image\n",
        "\n",
        "Image(app.get_graph().draw_mermaid_png())"
      ]
    },
    {
      "cell_type": "markdown",
      "id": "678c0200-32df-4faf-bc54-a4dd470f199c",
      "metadata": {
        "id": "678c0200-32df-4faf-bc54-a4dd470f199c"
      },
      "source": [
        "When running the application, we can stream the graph to observe its sequence of steps. Below, we will simply print out the name of the step.\n",
        "\n",
        "Note that because we have a loop in the graph, it can be helpful to specify a [recursion_limit](https://langchain-ai.github.io/langgraph/reference/errors/#langgraph.errors.GraphRecursionError) on its execution. This will raise a specific error when the specified limit is exceeded."
      ]
    },
    {
      "cell_type": "code",
      "execution_count": 72,
      "id": "b5e32a3c-f43e-4e18-a32d-466403afa844",
      "metadata": {
        "id": "b5e32a3c-f43e-4e18-a32d-466403afa844",
        "outputId": "1aece96f-f6f0-4cdc-e9a0-223112af9d0b"
      },
      "outputs": [
        {
          "name": "stdout",
          "output_type": "stream",
          "text": [
            "['generate_summary']\n",
            "['generate_summary']\n",
            "['generate_summary']\n",
            "['generate_summary']\n",
            "['generate_summary']\n",
            "['generate_summary']\n",
            "['generate_summary']\n",
            "['generate_summary']\n",
            "['generate_summary']\n",
            "['generate_summary']\n",
            "['generate_summary']\n",
            "['generate_summary']\n",
            "['generate_summary']\n",
            "['generate_summary']\n",
            "['collect_summaries']\n",
            "['collapse_summaries']\n",
            "['collapse_summaries']\n",
            "['generate_final_summary']\n"
          ]
        }
      ],
      "source": [
        "async for step in app.astream(\n",
        "    {\"contents\": [doc.page_content for doc in split_docs]},\n",
        "    {\"recursion_limit\": config[\"recursion_limit\"]},\n",
        "):\n",
        "    print(list(step.keys()))"
      ]
    },
    {
      "cell_type": "code",
      "execution_count": 73,
      "id": "b0b28b30-d12b-4a30-a0e2-f897adab68c9",
      "metadata": {
        "id": "b0b28b30-d12b-4a30-a0e2-f897adab68c9",
        "outputId": "c828e5c3-afe8-4429-d12b-6ef22309959b"
      },
      "outputs": [
        {
          "name": "stdout",
          "output_type": "stream",
          "text": [
            "{'generate_final_summary': {'final_summary': \"The consolidated summary of the main themes from the provided documents is as follows:\\n\\n1. **Integration of Large Language Models (LLMs) and Autonomous Agents**: LLMs play a crucial role in autonomous agent systems, leveraging methodologies such as Planning, Self-Reflection, and Memory to enhance decision-making and task execution.\\n\\n2. **Memory Types**: Various forms of memory—sensory, short-term, and long-term—are discussed regarding their significance in machine learning, including how they facilitate efficient information retrieval and embedding representations.\\n\\n3. **Algorithmic Advancements**: Key algorithms for approximate nearest neighbor searches, such as Locality-Sensitive Hashing (LSH) and FAISS, are highlighted for their contributions to effective data management in high-dimensional spaces.\\n\\n4. **Enhancements Through External Tools**: The integration of external symbolic tools (e.g., neuro-symbolic architectures and task planning APIs) improves LLM functionalities and broadens their applications in various domains.\\n\\n5. **Operational Challenges**: Issues faced by AI assistants, including API usage, domain-specific models, and the need for efficiency and reliability, are emphasized, along with a discussion on the integration challenges of LLMs.\\n\\n6. **Ethical Implications in AI**: The trends in drug discovery and the ethical considerations surrounding AI's deployment for potentially illicit purposes point to the need for responsible AI behavior, especially in generative agent interactions.\\n\\n7. **Structured Software Development**: The importance of systematic approaches to software development in Python, particularly using the MVC design pattern for organization and maintainability of code, is emphasized.\\n\\n8. **Best Practices in Coding**: Recommendations for maintaining clear file structures, thorough documentation, and adherence to coding best practices are noted to ensure project integrity.\\n\\n9. **Limitations of LLMs**: The limitations of LLMs, such as context length constraints and reliability issues with natural language interfaces, are discussed alongside their potential for enhancing intelligent reasoning in autonomous systems.\\n\\nOverall, the documents outline the synergy between planning, memory, and structured development approaches, while also addressing the challenges and ethical considerations that arise with the integration of LLMs into autonomous systems.\"}}\n"
          ]
        }
      ],
      "source": [
        "print(step)"
      ]
    },
    {
      "cell_type": "code",
      "execution_count": 74,
      "id": "8cc21713",
      "metadata": {},
      "outputs": [
        {
          "data": {
            "text/markdown": [
              "The consolidated summary of the main themes from the provided documents is as follows:\n",
              "\n",
              "1. **Integration of Large Language Models (LLMs) and Autonomous Agents**: LLMs play a crucial role in autonomous agent systems, leveraging methodologies such as Planning, Self-Reflection, and Memory to enhance decision-making and task execution.\n",
              "\n",
              "2. **Memory Types**: Various forms of memory—sensory, short-term, and long-term—are discussed regarding their significance in machine learning, including how they facilitate efficient information retrieval and embedding representations.\n",
              "\n",
              "3. **Algorithmic Advancements**: Key algorithms for approximate nearest neighbor searches, such as Locality-Sensitive Hashing (LSH) and FAISS, are highlighted for their contributions to effective data management in high-dimensional spaces.\n",
              "\n",
              "4. **Enhancements Through External Tools**: The integration of external symbolic tools (e.g., neuro-symbolic architectures and task planning APIs) improves LLM functionalities and broadens their applications in various domains.\n",
              "\n",
              "5. **Operational Challenges**: Issues faced by AI assistants, including API usage, domain-specific models, and the need for efficiency and reliability, are emphasized, along with a discussion on the integration challenges of LLMs.\n",
              "\n",
              "6. **Ethical Implications in AI**: The trends in drug discovery and the ethical considerations surrounding AI's deployment for potentially illicit purposes point to the need for responsible AI behavior, especially in generative agent interactions.\n",
              "\n",
              "7. **Structured Software Development**: The importance of systematic approaches to software development in Python, particularly using the MVC design pattern for organization and maintainability of code, is emphasized.\n",
              "\n",
              "8. **Best Practices in Coding**: Recommendations for maintaining clear file structures, thorough documentation, and adherence to coding best practices are noted to ensure project integrity.\n",
              "\n",
              "9. **Limitations of LLMs**: The limitations of LLMs, such as context length constraints and reliability issues with natural language interfaces, are discussed alongside their potential for enhancing intelligent reasoning in autonomous systems.\n",
              "\n",
              "Overall, the documents outline the synergy between planning, memory, and structured development approaches, while also addressing the challenges and ethical considerations that arise with the integration of LLMs into autonomous systems."
            ],
            "text/plain": [
              "<IPython.core.display.Markdown object>"
            ]
          },
          "execution_count": 74,
          "metadata": {},
          "output_type": "execute_result"
        }
      ],
      "source": [
        "Markdown(step[\"generate_final_summary\"][\"final_summary\"])"
      ]
    },
    {
      "cell_type": "markdown",
      "id": "a9e33d11-7a2a-4693-8c87-88b88eebc896",
      "metadata": {
        "id": "a9e33d11-7a2a-4693-8c87-88b88eebc896"
      },
      "source": [
        "In the corresponding [LangSmith trace](https://smith.langchain.com/public/9d7b1d50-e1d6-44c9-9ab2-eabef621c883/r) we can see the individual LLM calls, grouped under their respective nodes.\n",
        "\n",
        "### Go deeper\n",
        "\n",
        "**Customization**\n",
        "\n",
        "* As shown above, you can customize the LLMs and prompts for map and reduce stages.\n",
        "\n",
        "**Real-world use-case**\n",
        "\n",
        "* See [this blog post](https://blog.langchain.dev/llms-to-improve-documentation/) case-study on analyzing user interactions (questions about LangChain documentation)!  \n",
        "* The blog post and associated [repo](https://github.com/mendableai/QA_clustering) also introduce clustering as a means of summarization.\n",
        "* This opens up another path beyond the `stuff` or `map-reduce` approaches that is worth considering.\n",
        "\n",
        "![Image description](https://github.com/langchain-ai/langchain/blob/master/docs/static/img/summarization_use_case_3.png?raw=1)"
      ]
    },
    {
      "cell_type": "markdown",
      "id": "e8680f94-c872-4d36-92e5-1462ffeb577d",
      "metadata": {
        "id": "e8680f94-c872-4d36-92e5-1462ffeb577d"
      },
      "source": [
        "## Next steps\n",
        "\n",
        "We encourage you to check out the [how-to guides](/docs/how_to) for more detail on:\n",
        "\n",
        "- Other summarization strategies, such as [iterative refinement](/docs/how_to/summarize_refine)\n",
        "- Built-in [document loaders](/docs/how_to/#document-loaders) and [text-splitters](/docs/how_to/#text-splitters)\n",
        "- Integrating various combine-document chains into a [RAG application](/docs/tutorials/rag/)\n",
        "- Incorporating retrieval into a [chatbot](/docs/how_to/chatbots_retrieval/)\n",
        "\n",
        "and other concepts."
      ]
    },
    {
      "cell_type": "markdown",
      "id": "5u0vvfChuiNy",
      "metadata": {
        "id": "5u0vvfChuiNy"
      },
      "source": [
        "# Sources\n",
        "\n",
        "https://python.langchain.com/docs/tutorials/summarization/"
      ]
    },
    {
      "cell_type": "code",
      "execution_count": null,
      "id": "LGPvMWOtukXz",
      "metadata": {
        "id": "LGPvMWOtukXz"
      },
      "outputs": [],
      "source": []
    }
  ],
  "metadata": {
    "colab": {
      "include_colab_link": true,
      "provenance": []
    },
    "kernelspec": {
      "display_name": ".venv",
      "language": "python",
      "name": "python3"
    },
    "language_info": {
      "codemirror_mode": {
        "name": "ipython",
        "version": 3
      },
      "file_extension": ".py",
      "mimetype": "text/x-python",
      "name": "python",
      "nbconvert_exporter": "python",
      "pygments_lexer": "ipython3",
      "version": "3.11.11"
    }
  },
  "nbformat": 4,
  "nbformat_minor": 5
}
